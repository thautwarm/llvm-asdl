{
 "cells": [
  {
   "cell_type": "code",
   "execution_count": 2,
   "metadata": {
    "collapsed": true
   },
   "outputs": [],
   "source": [
    "import rbnf.zero as ze\n",
    "from Redy.ADT import traits\n",
    "from Redy.ADT.Core import data\n",
    "from Redy.Magic.Classic import cache, cast, record\n",
    "from Redy.Magic.Pattern import Pattern"
   ]
  },
  {
   "cell_type": "code",
   "execution_count": 28,
   "metadata": {},
   "outputs": [
    {
     "ename": "SyntaxError",
     "evalue": "Error at line {}, col {}, see details:\n{} (<string>)",
     "output_type": "error",
     "traceback": [
      "Traceback \u001b[1;36m(most recent call last)\u001b[0m:\n",
      "  File \u001b[0;32m\"D:\\software\\conda\\lib\\site-packages\\IPython\\core\\interactiveshell.py\"\u001b[0m, line \u001b[0;32m2862\u001b[0m, in \u001b[0;35mrun_code\u001b[0m\n    exec(code_obj, self.user_global_ns, self.user_ns)\n",
      "  File \u001b[0;32m\"<ipython-input-28-c216a0b99695>\"\u001b[0m, line \u001b[0;32m63\u001b[0m, in \u001b[0;35m<module>\u001b[0m\n    parser = ze.compile(grammar)\n",
      "  File \u001b[0;32m\"D:\\software\\conda\\lib\\site-packages\\rbnf\\zero\\impl.py\"\u001b[0m, line \u001b[0;32m58\u001b[0m, in \u001b[0;35mcompile\u001b[0m\n    return ZeroExp(bnf_syntax, use, custom_lexer_wrapper=custom_lexer_wrapper)\n",
      "\u001b[1;36m  File \u001b[1;32m\"D:\\software\\conda\\lib\\site-packages\\rbnf\\zero\\impl.py\"\u001b[1;36m, line \u001b[1;32m24\u001b[1;36m, in \u001b[1;35m__init__\u001b[1;36m\u001b[0m\n\u001b[1;33m    Green(before) + Red(later))\u001b[0m\n",
      "\u001b[1;36m  File \u001b[1;32m\"<string>\"\u001b[1;36m, line \u001b[1;32munknown\u001b[0m\n\u001b[1;31mSyntaxError\u001b[0m\u001b[1;31m:\u001b[0m Error at line {}, col {}, see details:\n{}\n"
     ]
    }
   ],
   "source": [
    "grammar = \"\"\"\n",
    "pyimport utils.[*]\n",
    "pyimport asdl.[*]\n",
    "\n",
    "import std.common.[Space Comment DoubleQuotedStr]\n",
    "ignore [Space Comment]\n",
    "\n",
    "keyword ::= 'let' 'def' 'struct' 'lambda' 'lambda->'\n",
    "\n",
    "# constants\n",
    "\n",
    "string ::= DoubleQuotedStr as s\n",
    "        rewrite String(*loc(s), s.value)\n",
    "        \n",
    "number_imp := R'0[Xx][\\da-fA-F]+|\\d+(?:\\.\\d+|)(?:E\\-{0,1}\\d+|)'\n",
    "number :: number_imp as n\n",
    "        rewrite TypedNumberFromToken(n)\n",
    "        \n",
    "symbol_imp := R':{2}|[^:\\']+'\n",
    "symbol ::= symbol_imp+ as syms\n",
    "        rewrite \n",
    "            Symbol(*loc(syms[0]),  ''.join(map_value(syms)))\n",
    "\n",
    "\n",
    "def_or_let ::= \n",
    "    ('def' | 'let') as sign\n",
    "    symbol as sym\n",
    "    sexpr  as body\n",
    "    rewrite\n",
    "        (Define if sign.value == 'def' Bind)(*loc(sign), sym, body)\n",
    "\n",
    "argdef ::= symbol as sym [':' sexpr as type]\n",
    "        rewrite\n",
    "            Argument(*loc(sym), sym, type)          \n",
    "lambda ::=\n",
    "    | 'lambda'   as sign \n",
    "        '(' argdef* as args ')'  sexpr as body\n",
    "    | 'lambda->' as sign \n",
    "        sexpr as typedef '(' argdef* as args ')' sexpr as body\n",
    "    rewrite\n",
    "        Lambda(*loc(sign), args, body, typedef)\n",
    "\n",
    "field_decl ::= symbol as fieldname ':' sexpr as type\n",
    "            rewrite FieldDecl(*loc(fieldname), fieldname, type)\n",
    "\n",
    "struct ::= 'struct' as sign \n",
    "            '(' field_decl* as fields ')'\n",
    "            rewrite Struct(*loc(sign), fields)\n",
    "\n",
    "quote ::= '\\'' as sign sexpr as value\n",
    "        rewrite Quote(*loc(sign), value)\n",
    "        \n",
    "atom ::=\n",
    "    | (string | symbol | number | quote) as body\n",
    "    | '(' (def_or_let | lambda | struct) as body ')'\n",
    "    rewrite body\n",
    "\n",
    "sexpr ::= '(' as sign sexpr* as expr_seq ')' | atom as atom\n",
    "        rewrite atom if atom else SExpr(*loc(sign), expr_seq)\n",
    "\"\"\""
   ]
  },
  {
   "cell_type": "code",
   "execution_count": 32,
   "metadata": {},
   "outputs": [
    {
     "data": {
      "text/plain": [
       "<_sre.SRE_Match object; span=(0, 3), match='aaa'>"
      ]
     },
     "execution_count": 32,
     "metadata": {},
     "output_type": "execute_result"
    }
   ],
   "source": [
    "import re\n",
    "re.compile('[^\\s]+').match('aaa bb')"
   ]
  },
  {
   "cell_type": "code",
   "execution_count": null,
   "metadata": {
    "collapsed": true
   },
   "outputs": [],
   "source": []
  }
 ],
 "metadata": {
  "kernelspec": {
   "display_name": "Python 3",
   "language": "python",
   "name": "python3"
  },
  "language_info": {
   "codemirror_mode": {
    "name": "ipython",
    "version": 3
   },
   "file_extension": ".py",
   "mimetype": "text/x-python",
   "name": "python",
   "nbconvert_exporter": "python",
   "pygments_lexer": "ipython3",
   "version": "3.6.3"
  }
 },
 "nbformat": 4,
 "nbformat_minor": 2
}
